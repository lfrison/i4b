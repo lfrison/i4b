{
 "cells": [
  {
   "cell_type": "code",
   "execution_count": 1,
   "metadata": {},
   "outputs": [],
   "source": [
    "# Configure Notebook\n",
    "\n",
    "# enable autoreloading \n",
    "%load_ext autoreload\n",
    "%autoreload 2\n",
    "\n",
    "import sys\n",
    "sys.path.append('../')\n",
    "\n",
    "# import the required libraries\n",
    "import plotly.graph_objs as go\n",
    "import plotly.offline as py\n",
    "\n",
    "import numpy as np\n",
    "from ipywidgets import interactive, VBox, widgets, interactive_output\n",
    "\n",
    "#py.init_notebook_mode()\n",
    "import matplotlib.pyplot as plt\n",
    "plt.rcParams[\"figure.figsize\"] = (12,4)"
   ]
  },
  {
   "cell_type": "code",
   "execution_count": 2,
   "metadata": {},
   "outputs": [
    {
     "data": {
      "text/plain": [
       "WindowsPath('D:/Users/lfrison/Python/i4b/notebooks')"
      ]
     },
     "execution_count": 2,
     "metadata": {},
     "output_type": "execute_result"
    }
   ],
   "source": [
    "from pathlib import Path; Path.cwd()"
   ]
  },
  {
   "cell_type": "code",
   "execution_count": 3,
   "metadata": {},
   "outputs": [],
   "source": [
    "# Setup Simulation Environment\n",
    "\n",
    "# Import the modules\n",
    "import src.models.model_buildings as model_buildings\n",
    "import src.models.model_hvac as model_hvac\n",
    "import src.simulator as simulator\n",
    "from src.disturbances import generate_disturbances\n",
    "from src.controller.pid.report import plot_temperature_deviations, plot_system_performance, plot_bldg_temperatures\n",
    "\n",
    "# Load example building data\n",
    "from data.buildings.sfh_1958_1968 import sfh_1958_1968_0_soc as building\n",
    "\n",
    "# Initialize the building model\n",
    "bldg_model = model_buildings.Building(params    = building, # More example buildings can be found in data/buildings/.\n",
    "                                      mdot_hp   = 0.25,     # Massflow of the heat supply system. [kg/s]\n",
    "                                      method    = '4R3C',   # For available calculation methods see: model_buildings.py.\n",
    "                                      )\n",
    "# Initalize the heat pump model\n",
    "hp_model = model_hvac.Heatpump_AW(mdot_HP = 0.25)\n",
    "\n",
    "# Generate disturbance data for a week\n",
    "p_hourly = generate_disturbances(bldg_model, repo_filepath='..')[0:168]\n",
    "\n",
    "# Prepare the simulation\n",
    "timestep = 900 # [s] simulation timestep\n",
    "# resample disturbances to the simulation timestep\n",
    "p = p_hourly.resample(f'{timestep}S').ffill() \n",
    "\n",
    "# Initialize the simulator\n",
    "Simulator = simulator.Model_simulator(bldg_model = bldg_model,\n",
    "                                      hp_model   = hp_model,\n",
    "                                      timestep   = timestep)\n",
    "\n",
    "# Set the initial states\n",
    "state_keys = bldg_model.state_keys\n",
    "x_init = {key : 20 for key in state_keys}\n",
    "\n",
    "# set the wall temperature to the arithmetric mean of the initial temperatures of the room and ambient temperature\n",
    "if 'T_wall' in state_keys:\n",
    "    x_init['T_wall'] = (x_init['T_room'] + p['T_amb'][0]) / 2\n",
    "\n",
    "x_init['T_hp_ret'] = 30"
   ]
  },
  {
   "cell_type": "code",
   "execution_count": 5,
   "metadata": {},
   "outputs": [
    {
     "data": {
      "application/vnd.jupyter.widget-view+json": {
       "model_id": "7d777925139a4ed69c5fd2220655aa11",
       "version_major": 2,
       "version_minor": 0
      },
      "text/plain": [
       "VBox(children=(HBox(children=(FloatSlider(value=20.0, description='T_room_set', max=30.0, min=15.0, step=1.0),…"
      ]
     },
     "execution_count": 5,
     "metadata": {},
     "output_type": "execute_result"
    }
   ],
   "source": [
    "# Create interactive plot\n",
    "\n",
    "from src.controller.pid.report import plot_report, plot_temperatures, plot_disturbances, plot_table_of_results\n",
    "\n",
    "def update_graph(T_room_set, kp, ki, kd):\n",
    "    res = Simulator.simulate(x_init = x_init, T_room_set = T_room_set, p = p, ctrl_method = \"pid\", KP = kp, KI = ki, KD = kd)\n",
    "    plot_temperatures(res, p)\n",
    "    #plot_disturbances(p)\n",
    "    #plot_temperature_deviations(res)\n",
    "    plot_system_performance(res)\n",
    "    plot_table_of_results(res)\n",
    "\n",
    "# manually determined control parameters for 2R2C\n",
    "kp, ki, kd = 7.2, 1.2, 24000\n",
    "# 4R3C\n",
    "kp, ki, kd = 0.5, 0.9, 1300\n",
    "\n",
    "# Create sliders\n",
    "T_room_set_slider = widgets.FloatSlider(value = 20, min = 15, max = 30, step = 1, description = \"T_room_set\", ) # [degC]\n",
    "#!ToDo: Find a way to determine good min, max and step values for the sliders\n",
    "kp_slider = widgets.FloatSlider(value = kp, min = 0, max = 20, step = 0.1, description = 'kp') # [W/K]\n",
    "ki_slider = widgets.FloatSlider(value = ki, min = 0, max = 2, step = 0.05, description = \"ki\") # [W/K]\n",
    "kd_slider = widgets.FloatSlider(value = kd, min = 0, max = 50000, step = 100, description=\"kd\") # [Ws/K]\n",
    "\n",
    "pid_widgets = widgets.VBox([kp_slider, ki_slider, kd_slider])\n",
    "input_widgets = widgets.HBox([T_room_set_slider, pid_widgets])\n",
    "\n",
    "# Make them interactive\n",
    "output = interactive_output(update_graph, {'T_room_set': T_room_set_slider, 'kp': kp_slider, 'ki': ki_slider, 'kd': kd_slider})\n",
    "\n",
    "# Create output\n",
    "vb = VBox((input_widgets, output)) # create vertical box with sliders and graph\n",
    "vb.layout.align_items = 'center'\n",
    "vb"
   ]
  },
  {
   "cell_type": "code",
   "execution_count": null,
   "metadata": {},
   "outputs": [],
   "source": []
  }
 ],
 "metadata": {
  "kernelspec": {
   "display_name": "Python 3 (ipykernel)",
   "language": "python",
   "name": "python3"
  },
  "language_info": {
   "codemirror_mode": {
    "name": "ipython",
    "version": 3
   },
   "file_extension": ".py",
   "mimetype": "text/x-python",
   "name": "python",
   "nbconvert_exporter": "python",
   "pygments_lexer": "ipython3",
   "version": "3.8.18"
  },
  "vscode": {
   "interpreter": {
    "hash": "ad187c36bf62fb08d04e67d6b12247c2a41d03ae9d82fb2b953521461da1606b"
   }
  }
 },
 "nbformat": 4,
 "nbformat_minor": 4
}
