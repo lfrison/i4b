{
 "cells": [
  {
   "cell_type": "code",
   "execution_count": 3,
   "metadata": {},
   "outputs": [
    {
     "name": "stdout",
     "output_type": "stream",
     "text": [
      "48.0252 7.7184 \n",
      "Save PVGIS data to file data/weather/pvgis_480252_077184_2015_2015.json\n"
     ]
    },
    {
     "ename": "FileNotFoundError",
     "evalue": "[Errno 2] No such file or directory: 'data\\\\weather\\\\pvgis_480252_077184_2015_2015.json'",
     "output_type": "error",
     "traceback": [
      "\u001b[1;31m---------------------------------------------------------------------------\u001b[0m",
      "\u001b[1;31mFileNotFoundError\u001b[0m                         Traceback (most recent call last)",
      "Cell \u001b[1;32mIn[3], line 19\u001b[0m\n\u001b[0;32m     16\u001b[0m hp_model \u001b[38;5;241m=\u001b[39m model_hvac\u001b[38;5;241m.\u001b[39mHeatpump_AW(mdot_HP \u001b[38;5;241m=\u001b[39m \u001b[38;5;241m0.25\u001b[39m)\n\u001b[0;32m     18\u001b[0m \u001b[38;5;66;03m# Generate disturbances\u001b[39;00m\n\u001b[1;32m---> 19\u001b[0m p_hourly \u001b[38;5;241m=\u001b[39m \u001b[43mgenerate_disturbances\u001b[49m\u001b[43m(\u001b[49m\u001b[43mbldg_model\u001b[49m\u001b[43m)\u001b[49m[\u001b[38;5;241m0\u001b[39m:\u001b[38;5;241m168\u001b[39m]\n\u001b[0;32m     21\u001b[0m \u001b[38;5;66;03m# define timestep\u001b[39;00m\n\u001b[0;32m     22\u001b[0m timestep \u001b[38;5;241m=\u001b[39m \u001b[38;5;241m3600\u001b[39m \u001b[38;5;66;03m#s\u001b[39;00m\n",
      "File \u001b[1;32m~\\Python\\i4b\\notebooks\\..\\src\\disturbances.py:117\u001b[0m, in \u001b[0;36mgenerate_disturbances\u001b[1;34m(building, year, repo_filepath)\u001b[0m\n\u001b[0;32m    115\u001b[0m pos \u001b[38;5;241m=\u001b[39m building\u001b[38;5;241m.\u001b[39mparams[\u001b[38;5;124m'\u001b[39m\u001b[38;5;124mposition\u001b[39m\u001b[38;5;124m'\u001b[39m]\n\u001b[0;32m    116\u001b[0m \u001b[38;5;66;03m# Load weather data as pandas df\u001b[39;00m\n\u001b[1;32m--> 117\u001b[0m weather_df \u001b[38;5;241m=\u001b[39m \u001b[43mload_weather\u001b[49m\u001b[43m(\u001b[49m\u001b[43mlatitude\u001b[49m\u001b[43m \u001b[49m\u001b[38;5;241;43m=\u001b[39;49m\u001b[43m \u001b[49m\u001b[43mpos\u001b[49m\u001b[43m[\u001b[49m\u001b[38;5;124;43m'\u001b[39;49m\u001b[38;5;124;43mlat\u001b[39;49m\u001b[38;5;124;43m'\u001b[39;49m\u001b[43m]\u001b[49m\u001b[43m,\u001b[49m\u001b[43m \u001b[49m\u001b[43mlongitude\u001b[49m\u001b[43m \u001b[49m\u001b[38;5;241;43m=\u001b[39;49m\u001b[43m \u001b[49m\u001b[43mpos\u001b[49m\u001b[43m[\u001b[49m\u001b[38;5;124;43m'\u001b[39;49m\u001b[38;5;124;43mlong\u001b[39;49m\u001b[38;5;124;43m'\u001b[39;49m\u001b[43m]\u001b[49m\u001b[43m,\u001b[49m\u001b[43m \u001b[49m\n\u001b[0;32m    118\u001b[0m \u001b[43m                          \u001b[49m\u001b[43maltitude\u001b[49m\u001b[43m  \u001b[49m\u001b[38;5;241;43m=\u001b[39;49m\u001b[43m \u001b[49m\u001b[43mpos\u001b[49m\u001b[43m[\u001b[49m\u001b[38;5;124;43m'\u001b[39;49m\u001b[38;5;124;43maltitude\u001b[39;49m\u001b[38;5;124;43m'\u001b[39;49m\u001b[43m]\u001b[49m\u001b[43m,\u001b[49m\u001b[43m \u001b[49m\u001b[43myear\u001b[49m\u001b[38;5;241;43m=\u001b[39;49m\u001b[43myear\u001b[49m\u001b[43m,\u001b[49m\u001b[43m \u001b[49m\u001b[43mrepo_filepath\u001b[49m\u001b[38;5;241;43m=\u001b[39;49m\u001b[43mrepo_filepath\u001b[49m\u001b[43m)\u001b[49m \u001b[38;5;66;03m# Load, and then select the first week of the data\u001b[39;00m\n\u001b[0;32m    120\u001b[0m \u001b[38;5;66;03m# Generate absolute heat gain profiles, based on datetime, building usage and floor area. \u001b[39;00m\n\u001b[0;32m    121\u001b[0m int_gains_df \u001b[38;5;241m=\u001b[39m get_int_gains(time \u001b[38;5;241m=\u001b[39m weather_df\u001b[38;5;241m.\u001b[39mindex, \n\u001b[0;32m    122\u001b[0m                              profile_path \u001b[38;5;241m=\u001b[39m \u001b[38;5;124mf\u001b[39m\u001b[38;5;124m'\u001b[39m\u001b[38;5;132;01m{\u001b[39;00mrepo_filepath\u001b[38;5;132;01m}\u001b[39;00m\u001b[38;5;124m/data/profiles/InternalGains/\u001b[39m\u001b[38;5;132;01m{\u001b[39;00mbuilding\u001b[38;5;241m.\u001b[39musage\u001b[38;5;132;01m}\u001b[39;00m\u001b[38;5;124m.csv\u001b[39m\u001b[38;5;124m'\u001b[39m,\n\u001b[0;32m    123\u001b[0m                              bldg_area \u001b[38;5;241m=\u001b[39m building\u001b[38;5;241m.\u001b[39mparams[\u001b[38;5;124m'\u001b[39m\u001b[38;5;124marea_floor\u001b[39m\u001b[38;5;124m'\u001b[39m] )\n",
      "File \u001b[1;32m~\\Python\\i4b\\notebooks\\..\\src\\disturbances.py:213\u001b[0m, in \u001b[0;36mload_weather\u001b[1;34m(latitude, longitude, altitude, year, tz, repo_filepath)\u001b[0m\n\u001b[0;32m    209\u001b[0m     df[\u001b[38;5;124m'\u001b[39m\u001b[38;5;124mdni\u001b[39m\u001b[38;5;124m'\u001b[39m] \u001b[38;5;241m=\u001b[39m raw\u001b[38;5;241m.\u001b[39mB\u001b[38;5;241m.\u001b[39mvalues \u001b[38;5;241m/\u001b[39m np\u001b[38;5;241m.\u001b[39mmaximum(\u001b[38;5;241m0.05\u001b[39m, aoi_projection)\n\u001b[0;32m    211\u001b[0m \u001b[38;5;66;03m# Otherwise load the data from PVGIS online API tool\u001b[39;00m\n\u001b[0;32m    212\u001b[0m \u001b[38;5;28;01melse\u001b[39;00m:\n\u001b[1;32m--> 213\u001b[0m     df \u001b[38;5;241m=\u001b[39m \u001b[43mload_weather_pvgis\u001b[49m\u001b[43m(\u001b[49m\u001b[43mlatitude\u001b[49m\u001b[43m,\u001b[49m\u001b[43m \u001b[49m\u001b[43mlongitude\u001b[49m\u001b[43m,\u001b[49m\u001b[43m \u001b[49m\u001b[43mstart_year\u001b[49m\u001b[38;5;241;43m=\u001b[39;49m\u001b[43myear\u001b[49m\u001b[43m,\u001b[49m\u001b[43m \u001b[49m\u001b[43mend_year\u001b[49m\u001b[38;5;241;43m=\u001b[39;49m\u001b[43myear\u001b[49m\u001b[43m,\u001b[49m\u001b[43m \u001b[49m\u001b[43mtz\u001b[49m\u001b[38;5;241;43m=\u001b[39;49m\u001b[43mtz\u001b[49m\u001b[43m)\u001b[49m\n\u001b[0;32m    215\u001b[0m \u001b[38;5;28;01mreturn\u001b[39;00m df\n",
      "File \u001b[1;32m~\\Python\\i4b\\notebooks\\..\\src\\disturbances.py:270\u001b[0m, in \u001b[0;36mload_weather_pvgis\u001b[1;34m(latitude, longitude, start_year, end_year, tz, repo_filepath)\u001b[0m\n\u001b[0;32m    221\u001b[0m \u001b[38;5;250m\u001b[39m\u001b[38;5;124;03m'''\u001b[39;00m\n\u001b[0;32m    222\u001b[0m \u001b[38;5;124;03mLoads weather data, extracts ambient temperature & irradiance data and returns them in\u001b[39;00m\n\u001b[0;32m    223\u001b[0m \u001b[38;5;124;03ma pandas dataframe. PVGIS online tool is used to get the data.\u001b[39;00m\n\u001b[1;32m   (...)\u001b[0m\n\u001b[0;32m    266\u001b[0m \u001b[38;5;124;03mNone (in case of error)\u001b[39;00m\n\u001b[0;32m    267\u001b[0m \u001b[38;5;124;03m'''\u001b[39;00m\n\u001b[0;32m    269\u001b[0m \u001b[38;5;66;03m# Fetch base horizontal irradiation data from PVGIS seriescalc tool\u001b[39;00m\n\u001b[1;32m--> 270\u001b[0m df \u001b[38;5;241m=\u001b[39m \u001b[43m_fetch_pvgis_data\u001b[49m\u001b[43m(\u001b[49m\u001b[43mlatitude\u001b[49m\u001b[43m,\u001b[49m\u001b[43m \u001b[49m\u001b[43mlongitude\u001b[49m\u001b[43m,\u001b[49m\u001b[43m \u001b[49m\u001b[43mstart_year\u001b[49m\u001b[38;5;241;43m=\u001b[39;49m\u001b[43mstart_year\u001b[49m\u001b[43m,\u001b[49m\u001b[43m \u001b[49m\u001b[43mend_year\u001b[49m\u001b[38;5;241;43m=\u001b[39;49m\u001b[43mend_year\u001b[49m\u001b[43m,\u001b[49m\n\u001b[0;32m    271\u001b[0m \u001b[43m                       \u001b[49m\u001b[43mrepo_filepath\u001b[49m\u001b[38;5;241;43m=\u001b[39;49m\u001b[43mrepo_filepath\u001b[49m\u001b[43m)\u001b[49m\n\u001b[0;32m    273\u001b[0m \u001b[38;5;66;03m# Create time index (timezone-aware with UTC)\u001b[39;00m\n\u001b[0;32m    274\u001b[0m df[\u001b[38;5;124m'\u001b[39m\u001b[38;5;124mtime\u001b[39m\u001b[38;5;124m'\u001b[39m] \u001b[38;5;241m=\u001b[39m pd\u001b[38;5;241m.\u001b[39mto_datetime(df\u001b[38;5;241m.\u001b[39mpop(\u001b[38;5;124m'\u001b[39m\u001b[38;5;124mtime\u001b[39m\u001b[38;5;124m'\u001b[39m), \u001b[38;5;28mformat\u001b[39m\u001b[38;5;241m=\u001b[39m\u001b[38;5;124m'\u001b[39m\u001b[38;5;124m%\u001b[39m\u001b[38;5;124mY\u001b[39m\u001b[38;5;124m%\u001b[39m\u001b[38;5;124mm\u001b[39m\u001b[38;5;132;01m%d\u001b[39;00m\u001b[38;5;124m:\u001b[39m\u001b[38;5;124m%\u001b[39m\u001b[38;5;124mH\u001b[39m\u001b[38;5;124m%\u001b[39m\u001b[38;5;124mM\u001b[39m\u001b[38;5;124m'\u001b[39m)\n",
      "File \u001b[1;32m~\\Python\\i4b\\notebooks\\..\\src\\disturbances.py:409\u001b[0m, in \u001b[0;36m_fetch_pvgis_data\u001b[1;34m(latitude, longitude, two_axis_tracking, start_year, end_year, repo_filepath)\u001b[0m\n\u001b[0;32m    407\u001b[0m \u001b[38;5;66;03m# Save JSON data to file\u001b[39;00m\n\u001b[0;32m    408\u001b[0m \u001b[38;5;28mprint\u001b[39m(\u001b[38;5;124m'\u001b[39m\u001b[38;5;124mSave PVGIS data to file \u001b[39m\u001b[38;5;124m'\u001b[39m \u001b[38;5;241m+\u001b[39m pvgis_filepath\u001b[38;5;241m.\u001b[39mas_posix())\n\u001b[1;32m--> 409\u001b[0m \u001b[38;5;28;01mwith\u001b[39;00m \u001b[43mpvgis_filepath\u001b[49m\u001b[38;5;241;43m.\u001b[39;49m\u001b[43mopen\u001b[49m\u001b[43m(\u001b[49m\u001b[38;5;124;43m'\u001b[39;49m\u001b[38;5;124;43mw\u001b[39;49m\u001b[38;5;124;43m'\u001b[39;49m\u001b[43m)\u001b[49m \u001b[38;5;28;01mas\u001b[39;00m file:\n\u001b[0;32m    410\u001b[0m     json\u001b[38;5;241m.\u001b[39mdump(data, file)\n\u001b[0;32m    412\u001b[0m \u001b[38;5;28;01mreturn\u001b[39;00m pd\u001b[38;5;241m.\u001b[39mjson_normalize(data[\u001b[38;5;124m'\u001b[39m\u001b[38;5;124moutputs\u001b[39m\u001b[38;5;124m'\u001b[39m][\u001b[38;5;124m'\u001b[39m\u001b[38;5;124mhourly\u001b[39m\u001b[38;5;124m'\u001b[39m])\n",
      "File \u001b[1;32mc:\\ProgramData\\Anaconda3\\lib\\pathlib.py:1222\u001b[0m, in \u001b[0;36mPath.open\u001b[1;34m(self, mode, buffering, encoding, errors, newline)\u001b[0m\n\u001b[0;32m   1220\u001b[0m \u001b[38;5;28;01mif\u001b[39;00m \u001b[38;5;28mself\u001b[39m\u001b[38;5;241m.\u001b[39m_closed:\n\u001b[0;32m   1221\u001b[0m     \u001b[38;5;28mself\u001b[39m\u001b[38;5;241m.\u001b[39m_raise_closed()\n\u001b[1;32m-> 1222\u001b[0m \u001b[38;5;28;01mreturn\u001b[39;00m \u001b[43mio\u001b[49m\u001b[38;5;241;43m.\u001b[39;49m\u001b[43mopen\u001b[49m\u001b[43m(\u001b[49m\u001b[38;5;28;43mself\u001b[39;49m\u001b[43m,\u001b[49m\u001b[43m \u001b[49m\u001b[43mmode\u001b[49m\u001b[43m,\u001b[49m\u001b[43m \u001b[49m\u001b[43mbuffering\u001b[49m\u001b[43m,\u001b[49m\u001b[43m \u001b[49m\u001b[43mencoding\u001b[49m\u001b[43m,\u001b[49m\u001b[43m \u001b[49m\u001b[43merrors\u001b[49m\u001b[43m,\u001b[49m\u001b[43m \u001b[49m\u001b[43mnewline\u001b[49m\u001b[43m,\u001b[49m\n\u001b[0;32m   1223\u001b[0m \u001b[43m               \u001b[49m\u001b[43mopener\u001b[49m\u001b[38;5;241;43m=\u001b[39;49m\u001b[38;5;28;43mself\u001b[39;49m\u001b[38;5;241;43m.\u001b[39;49m\u001b[43m_opener\u001b[49m\u001b[43m)\u001b[49m\n",
      "File \u001b[1;32mc:\\ProgramData\\Anaconda3\\lib\\pathlib.py:1078\u001b[0m, in \u001b[0;36mPath._opener\u001b[1;34m(self, name, flags, mode)\u001b[0m\n\u001b[0;32m   1076\u001b[0m \u001b[38;5;28;01mdef\u001b[39;00m \u001b[38;5;21m_opener\u001b[39m(\u001b[38;5;28mself\u001b[39m, name, flags, mode\u001b[38;5;241m=\u001b[39m\u001b[38;5;241m0o666\u001b[39m):\n\u001b[0;32m   1077\u001b[0m     \u001b[38;5;66;03m# A stub for the opener argument to built-in open()\u001b[39;00m\n\u001b[1;32m-> 1078\u001b[0m     \u001b[38;5;28;01mreturn\u001b[39;00m \u001b[38;5;28;43mself\u001b[39;49m\u001b[38;5;241;43m.\u001b[39;49m\u001b[43m_accessor\u001b[49m\u001b[38;5;241;43m.\u001b[39;49m\u001b[43mopen\u001b[49m\u001b[43m(\u001b[49m\u001b[38;5;28;43mself\u001b[39;49m\u001b[43m,\u001b[49m\u001b[43m \u001b[49m\u001b[43mflags\u001b[49m\u001b[43m,\u001b[49m\u001b[43m \u001b[49m\u001b[43mmode\u001b[49m\u001b[43m)\u001b[49m\n",
      "\u001b[1;31mFileNotFoundError\u001b[0m: [Errno 2] No such file or directory: 'data\\\\weather\\\\pvgis_480252_077184_2015_2015.json'"
     ]
    }
   ],
   "source": [
    "# add source directory to path\n",
    "import sys\n",
    "sys.path.append('../')\n",
    "\n",
    "import src.models.model_buildings as model_buildings\n",
    "import src.models.model_hvac as model_hvac\n",
    "import src.simulator as simulator\n",
    "from src.disturbances import generate_disturbances\n",
    "from data.buildings.sfh_1919_1948 import sfh_1919_1948_0_soc as building\n",
    "\n",
    "# Initialize the building model\n",
    "bldg_model = model_buildings.Building(params    = building, # More example buildings can be found in data/buildings/.\n",
    "                                      mdot_hp   = 0.25,          # Massflow of the heat supply system. [kg/s]\n",
    "                                      method    = '2R2C',        # For available calculation methods see: model_buildings.py.\n",
    "                                      )\n",
    "\n",
    "# Initalize the heat pump model\n",
    "hp_model = model_hvac.Heatpump_AW(mdot_HP = 0.25)\n",
    "\n",
    "# Generate disturbances\n",
    "p_hourly = generate_disturbances(bldg_model)[0:168]\n",
    "\n",
    "# define timestep\n",
    "timestep = 3600 #s\n",
    "p = p_hourly.resample(f'{timestep}S').pad() # resample disturbance\n",
    "\n",
    "# setup simulator\n",
    "Simulator = simulator.Model_simulator(bldg_model = bldg_model,\n",
    "                                      hp_model   = hp_model,\n",
    "                                      timestep   = timestep)\n",
    "\n",
    "# Set the control variable\n",
    "uk = 20  # T_hp_sup [°C]\n",
    "\n",
    "# Get available state keys from building_model\n",
    "state_keys = bldg_model.state_keys\n",
    "\n",
    "# Setup initial state vector\n",
    "x_init = {key : 20 for key in state_keys} # here all inital states are set to 20 °C"
   ]
  },
  {
   "cell_type": "code",
   "execution_count": null,
   "metadata": {},
   "outputs": [],
   "source": [
    "import numpy as np\n",
    "import matplotlib.pyplot as plt\n",
    "from ipywidgets import interact_manual\n",
    "from controller.heatcurve import Heatingcurve\n",
    "from report import plot_bldg_temperatures\n",
    "plt.rcParams[\"figure.figsize\"] = (14,2)\n",
    "\n",
    "# create instance of heat curve\n",
    "HC = Heatingcurve()\n",
    "\n",
    "def draw_heatcurve(shift, offset):\n",
    "    # Heat curve\n",
    "    T_amb = np.linspace(-20,35,56)\n",
    "    T_sup, T_ret = HC.calc(T_amb, shift, offset)\n",
    "    T_sup_nom, T_ret_nom = HC.calc(T_amb)\n",
    "    plt.plot(T_amb, T_sup, label = \"T_sup [°C]\")\n",
    "    plt.plot(T_amb, T_sup_nom, label = \"T_sup_nom [°C]\")\n",
    "    plt.ylim(0,100)\n",
    "    plt.legend()\n",
    "    plt.show()\n",
    "\n",
    "    # Heatingcurve controller\n",
    "    results = Simulator.simulate(x_init=x_init, T_room_set=20, p=p, ctrl_method='heatcurve', shift = shift, offset = offset)\n",
    "    \n",
    "    plt.plot(results['states'], label = list(results['states'].columns + ' [°C]'))\n",
    "    plt.plot(results['control'], label = 'T_sup [°C]')\n",
    "    plt.plot(p_hourly['T_amb'], label = 'T_amb [°C]')\n",
    "    plt.legend()\n",
    "    plt.show()\n",
    "\n",
    "interact_manual(draw_heatcurve, shift = (-10.0,10.0), offset = (-20.0,50.0), continuous_update = False)"
   ]
  }
 ],
 "metadata": {
  "kernelspec": {
   "display_name": "Python 3 (ipykernel)",
   "language": "python",
   "name": "python3"
  },
  "language_info": {
   "codemirror_mode": {
    "name": "ipython",
    "version": 3
   },
   "file_extension": ".py",
   "mimetype": "text/x-python",
   "name": "python",
   "nbconvert_exporter": "python",
   "pygments_lexer": "ipython3",
   "version": "3.8.18"
  },
  "vscode": {
   "interpreter": {
    "hash": "c09d3f62d40278c9a27d5ed2be1efc77c1b3f777d03a4c054662bcc006592951"
   }
  }
 },
 "nbformat": 4,
 "nbformat_minor": 4
}
